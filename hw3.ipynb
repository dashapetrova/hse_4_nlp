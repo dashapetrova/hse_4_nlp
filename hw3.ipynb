{
  "nbformat": 4,
  "nbformat_minor": 0,
  "metadata": {
    "colab": {
      "name": "hw3.ipynb",
      "provenance": [],
      "collapsed_sections": []
    },
    "kernelspec": {
      "name": "python3",
      "display_name": "Python 3"
    }
  },
  "cells": [
    {
      "cell_type": "markdown",
      "metadata": {
        "id": "ZBxaR4KAcT6g",
        "colab_type": "text"
      },
      "source": [
        "**Домашнее задание 3. Разрешение семантической многозначности.**\n",
        "\n",
        "Описание задания:\n",
        "Выберите одну из предложенных лексем: свет, острый, лук, замок.\n",
        "\n",
        "1. Выберите 2-3 значения лексемы по словарю (рекомендую использовать МАС, обязательно напишите, каким словарем пользовались). Для каждого значения придумайте несколько \"диагностических\" слов (которые сигнализируют о реализации одного из значений в контексте): например, ключ — вода / дверь. Подберите по НКРЯ контексты для выбранной лексемы, содержащие диагностические слова. Таким образом, получается размеченный тестсет.\n",
        "\n",
        "2. Для каждого контекста определите значение автоматически — с помощью AdaGram / ELMo на выбор. В случае с AdaGram вы сразу получаете какой-то номер значения, с ELMo — нужно кластеризовать.\n",
        "\n",
        "3. Возьмите словарные толкования для каждого значения и припишите ему значение автоматически тем же способом, что и в п.2.\n",
        "\n",
        "4. Придумайте и реализуйте способ соотнести толкования со значениями с помощью тезауруса (Wiki_ru_wordnet / РуТез).\n",
        "\n",
        "5. Оцените accuracy — в какой доле контекстов автоматически определенно значение для контекста совпадает с автоматически определенным значением толкования.\n"
      ]
    },
    {
      "cell_type": "markdown",
      "metadata": {
        "id": "TvxML22spZ9r",
        "colab_type": "text"
      },
      "source": [
        "**1.Создание тестсета**"
      ]
    },
    {
      "cell_type": "markdown",
      "metadata": {
        "id": "0L4QE9tBkCfk",
        "colab_type": "text"
      },
      "source": [
        "Из мас были взяты следующие толкования:"
      ]
    },
    {
      "cell_type": "markdown",
      "metadata": {
        "id": "AIaWlF4XonyB",
        "colab_type": "text"
      },
      "source": [
        "ЛУК1, -а (-у), м.\n",
        "\n",
        "1. Огородное растение сем. лилейных, овощ.\n",
        "2. собир. Съедобные трубчатые листья или луковицы этого растения. Зеленый лук. Репчатый лук.\n",
        "\n",
        "Диагностические слова для ЛУК1: лист, зеленый, репчатый.\n",
        "\n",
        "ЛУК2, -а, м.\n",
        "\n",
        "1. Ручное оружие для метания стрел в виде дуги, стянутой тетивой. Стрелять из лука.\n",
        "\n",
        "Диагностические слова для ЛУК2: тетива, стрела, стрелять."
      ]
    },
    {
      "cell_type": "code",
      "metadata": {
        "id": "k5Vbd0uFcZUM",
        "colab_type": "code",
        "outputId": "b8f8abf1-8337-42e5-e134-037c189cce21",
        "colab": {
          "base_uri": "https://localhost:8080/",
          "height": 125
        }
      },
      "source": [
        "from google.colab import drive\n",
        "drive.mount('/content/gdrive')"
      ],
      "execution_count": 1,
      "outputs": [
        {
          "output_type": "stream",
          "text": [
            "Go to this URL in a browser: https://accounts.google.com/o/oauth2/auth?client_id=947318989803-6bn6qk8qdgf4n4g3pfee6491hc0brc4i.apps.googleusercontent.com&redirect_uri=urn%3aietf%3awg%3aoauth%3a2.0%3aoob&response_type=code&scope=email%20https%3a%2f%2fwww.googleapis.com%2fauth%2fdocs.test%20https%3a%2f%2fwww.googleapis.com%2fauth%2fdrive%20https%3a%2f%2fwww.googleapis.com%2fauth%2fdrive.photos.readonly%20https%3a%2f%2fwww.googleapis.com%2fauth%2fpeopleapi.readonly\n",
            "\n",
            "Enter your authorization code:\n",
            "··········\n",
            "Mounted at /content/gdrive\n"
          ],
          "name": "stdout"
        }
      ]
    },
    {
      "cell_type": "code",
      "metadata": {
        "id": "NFUNLY0m3zb-",
        "colab_type": "code",
        "colab": {}
      },
      "source": [
        "import os\n",
        "os.chdir('gdrive/My Drive/Colab Notebooks')"
      ],
      "execution_count": 0,
      "outputs": []
    },
    {
      "cell_type": "code",
      "metadata": {
        "id": "XQB9sXIW5rv7",
        "colab_type": "code",
        "colab": {}
      },
      "source": [
        "import pandas as pd\n",
        "import numpy as np"
      ],
      "execution_count": 0,
      "outputs": []
    },
    {
      "cell_type": "markdown",
      "metadata": {
        "id": "fVTgQOskHFUZ",
        "colab_type": "text"
      },
      "source": [
        "В корпусе 60 примеров контекстов: по 30 для каждого значения."
      ]
    },
    {
      "cell_type": "code",
      "metadata": {
        "id": "FhS60EX_54K1",
        "colab_type": "code",
        "colab": {}
      },
      "source": [
        "corpus = pd.read_csv('test_corpus.txt', sep = '.', names = ['text','label'])"
      ],
      "execution_count": 0,
      "outputs": []
    },
    {
      "cell_type": "code",
      "metadata": {
        "id": "YmDJstaT6CIZ",
        "colab_type": "code",
        "outputId": "70b8b596-2569-4972-d012-21d3e2bec129",
        "colab": {
          "base_uri": "https://localhost:8080/",
          "height": 197
        }
      },
      "source": [
        "corpus.head()"
      ],
      "execution_count": 5,
      "outputs": [
        {
          "output_type": "execute_result",
          "data": {
            "text/html": [
              "<div>\n",
              "<style scoped>\n",
              "    .dataframe tbody tr th:only-of-type {\n",
              "        vertical-align: middle;\n",
              "    }\n",
              "\n",
              "    .dataframe tbody tr th {\n",
              "        vertical-align: top;\n",
              "    }\n",
              "\n",
              "    .dataframe thead th {\n",
              "        text-align: right;\n",
              "    }\n",
              "</style>\n",
              "<table border=\"1\" class=\"dataframe\">\n",
              "  <thead>\n",
              "    <tr style=\"text-align: right;\">\n",
              "      <th></th>\n",
              "      <th>text</th>\n",
              "      <th>label</th>\n",
              "    </tr>\n",
              "  </thead>\n",
              "  <tbody>\n",
              "    <tr>\n",
              "      <th>0</th>\n",
              "      <td>Кальмары отварить с морковью, репчатым луком и...</td>\n",
              "      <td>1</td>\n",
              "    </tr>\n",
              "    <tr>\n",
              "      <th>1</th>\n",
              "      <td>Кое-кто завёл себе на пирсе маленькие огородик...</td>\n",
              "      <td>1</td>\n",
              "    </tr>\n",
              "    <tr>\n",
              "      <th>2</th>\n",
              "      <td>Туда отправляем мелко нарезанными репчатый лук...</td>\n",
              "      <td>1</td>\n",
              "    </tr>\n",
              "    <tr>\n",
              "      <th>3</th>\n",
              "      <td>Слегка поджарьте на сковородке нарезанный репч...</td>\n",
              "      <td>1</td>\n",
              "    </tr>\n",
              "    <tr>\n",
              "      <th>4</th>\n",
              "      <td>Из другой поездки привез нам мешок репчатого л...</td>\n",
              "      <td>1</td>\n",
              "    </tr>\n",
              "  </tbody>\n",
              "</table>\n",
              "</div>"
            ],
            "text/plain": [
              "                                                text  label\n",
              "0  Кальмары отварить с морковью, репчатым луком и...      1\n",
              "1  Кое-кто завёл себе на пирсе маленькие огородик...      1\n",
              "2  Туда отправляем мелко нарезанными репчатый лук...      1\n",
              "3  Слегка поджарьте на сковородке нарезанный репч...      1\n",
              "4  Из другой поездки привез нам мешок репчатого л...      1"
            ]
          },
          "metadata": {
            "tags": []
          },
          "execution_count": 5
        }
      ]
    },
    {
      "cell_type": "markdown",
      "metadata": {
        "id": "WVVa7rd6HcpE",
        "colab_type": "text"
      },
      "source": [
        "**2.Автоматическая разметка контекстов с помощью Adagram**"
      ]
    },
    {
      "cell_type": "code",
      "metadata": {
        "id": "yuquChcVFM-w",
        "colab_type": "code",
        "outputId": "6b2ee61a-14db-4588-cf06-407d479c8ec7",
        "colab": {
          "base_uri": "https://localhost:8080/",
          "height": 212
        }
      },
      "source": [
        "!wget https://s3.amazonaws.com/kostia.lopuhin/all.a010.p10.d300.w5.m100.nonorm.slim.joblib"
      ],
      "execution_count": 6,
      "outputs": [
        {
          "output_type": "stream",
          "text": [
            "--2019-12-09 05:14:47--  https://s3.amazonaws.com/kostia.lopuhin/all.a010.p10.d300.w5.m100.nonorm.slim.joblib\n",
            "Resolving s3.amazonaws.com (s3.amazonaws.com)... 52.217.32.246\n",
            "Connecting to s3.amazonaws.com (s3.amazonaws.com)|52.217.32.246|:443... connected.\n",
            "HTTP request sent, awaiting response... 200 OK\n",
            "Length: 1462416741 (1.4G) [application/x-www-form-urlencoded]\n",
            "Saving to: ‘all.a010.p10.d300.w5.m100.nonorm.slim.joblib’\n",
            "\n",
            "all.a010.p10.d300.w 100%[===================>]   1.36G  59.3MB/s    in 23s     \n",
            "\n",
            "2019-12-09 05:15:10 (61.1 MB/s) - ‘all.a010.p10.d300.w5.m100.nonorm.slim.joblib’ saved [1462416741/1462416741]\n",
            "\n"
          ],
          "name": "stdout"
        }
      ]
    },
    {
      "cell_type": "code",
      "metadata": {
        "id": "4t3aQyLyIYs4",
        "colab_type": "code",
        "outputId": "056b23b3-2c39-4b1e-9006-a951d9cb1e08",
        "colab": {
          "base_uri": "https://localhost:8080/",
          "height": 265
        }
      },
      "source": [
        "!pip install git+https://github.com/lopuhin/python-adagram.git"
      ],
      "execution_count": 7,
      "outputs": [
        {
          "output_type": "stream",
          "text": [
            "Collecting git+https://github.com/lopuhin/python-adagram.git\n",
            "  Cloning https://github.com/lopuhin/python-adagram.git to /tmp/pip-req-build-6jczy__s\n",
            "  Running command git clone -q https://github.com/lopuhin/python-adagram.git /tmp/pip-req-build-6jczy__s\n",
            "Requirement already satisfied: cython in /usr/local/lib/python3.6/dist-packages (from adagram==0.0.1) (0.29.14)\n",
            "Requirement already satisfied: joblib in /usr/local/lib/python3.6/dist-packages (from adagram==0.0.1) (0.14.0)\n",
            "Requirement already satisfied: numpy>=1.9 in /usr/local/lib/python3.6/dist-packages (from adagram==0.0.1) (1.17.4)\n",
            "Requirement already satisfied: six in /usr/local/lib/python3.6/dist-packages (from adagram==0.0.1) (1.12.0)\n",
            "Building wheels for collected packages: adagram\n",
            "  Building wheel for adagram (setup.py) ... \u001b[?25l\u001b[?25hdone\n",
            "  Created wheel for adagram: filename=adagram-0.0.1-cp36-cp36m-linux_x86_64.whl size=464607 sha256=be2eadad527898f6b1dacb5749cb8609068e35568b4b7619d85b1aa852c8f4f8\n",
            "  Stored in directory: /tmp/pip-ephem-wheel-cache-luvlj30h/wheels/11/0f/46/f5df96670df8f7973b4c2311ffc9b02e435a7bd3207f992c4d\n",
            "Successfully built adagram\n",
            "Installing collected packages: adagram\n",
            "Successfully installed adagram-0.0.1\n"
          ],
          "name": "stdout"
        }
      ]
    },
    {
      "cell_type": "code",
      "metadata": {
        "id": "qbR39-VKId3M",
        "colab_type": "code",
        "outputId": "54f4643e-ce4e-4174-f922-2bcfb53d4989",
        "colab": {
          "base_uri": "https://localhost:8080/",
          "height": 230
        }
      },
      "source": [
        "!pip install pymystem3==0.1.10"
      ],
      "execution_count": 8,
      "outputs": [
        {
          "output_type": "stream",
          "text": [
            "Collecting pymystem3==0.1.10\n",
            "  Downloading https://files.pythonhosted.org/packages/51/56/57e550b53587719e92330a79c7c0f555402d953b00700efae6d5ca53cdef/pymystem3-0.1.10-py3-none-any.whl\n",
            "Requirement already satisfied: requests in /usr/local/lib/python3.6/dist-packages (from pymystem3==0.1.10) (2.21.0)\n",
            "Requirement already satisfied: idna<2.9,>=2.5 in /usr/local/lib/python3.6/dist-packages (from requests->pymystem3==0.1.10) (2.8)\n",
            "Requirement already satisfied: urllib3<1.25,>=1.21.1 in /usr/local/lib/python3.6/dist-packages (from requests->pymystem3==0.1.10) (1.24.3)\n",
            "Requirement already satisfied: chardet<3.1.0,>=3.0.2 in /usr/local/lib/python3.6/dist-packages (from requests->pymystem3==0.1.10) (3.0.4)\n",
            "Requirement already satisfied: certifi>=2017.4.17 in /usr/local/lib/python3.6/dist-packages (from requests->pymystem3==0.1.10) (2019.11.28)\n",
            "Installing collected packages: pymystem3\n",
            "  Found existing installation: pymystem3 0.2.0\n",
            "    Uninstalling pymystem3-0.2.0:\n",
            "      Successfully uninstalled pymystem3-0.2.0\n",
            "Successfully installed pymystem3-0.1.10\n"
          ],
          "name": "stdout"
        }
      ]
    },
    {
      "cell_type": "code",
      "metadata": {
        "id": "oTmcR7n2Vg3l",
        "colab_type": "code",
        "outputId": "4188c672-6652-433a-83f7-096e925fd936",
        "colab": {
          "base_uri": "https://localhost:8080/",
          "height": 232
        }
      },
      "source": [
        "pip install pymorphy2"
      ],
      "execution_count": 9,
      "outputs": [
        {
          "output_type": "stream",
          "text": [
            "Collecting pymorphy2\n",
            "\u001b[?25l  Downloading https://files.pythonhosted.org/packages/a3/33/fff9675c68b5f6c63ec8c6e6ff57827dda28a1fa5b2c2d727dffff92dd47/pymorphy2-0.8-py2.py3-none-any.whl (46kB)\n",
            "\u001b[K     |████████████████████████████████| 51kB 2.0MB/s \n",
            "\u001b[?25hCollecting pymorphy2-dicts<3.0,>=2.4\n",
            "\u001b[?25l  Downloading https://files.pythonhosted.org/packages/02/51/2465fd4f72328ab50877b54777764d928da8cb15b74e2680fc1bd8cb3173/pymorphy2_dicts-2.4.393442.3710985-py2.py3-none-any.whl (7.1MB)\n",
            "\u001b[K     |████████████████████████████████| 7.1MB 9.7MB/s \n",
            "\u001b[?25hRequirement already satisfied: docopt>=0.6 in /usr/local/lib/python3.6/dist-packages (from pymorphy2) (0.6.2)\n",
            "Collecting dawg-python>=0.7\n",
            "  Downloading https://files.pythonhosted.org/packages/6a/84/ff1ce2071d4c650ec85745766c0047ccc3b5036f1d03559fd46bb38b5eeb/DAWG_Python-0.7.2-py2.py3-none-any.whl\n",
            "Installing collected packages: pymorphy2-dicts, dawg-python, pymorphy2\n",
            "Successfully installed dawg-python-0.7.2 pymorphy2-0.8 pymorphy2-dicts-2.4.393442.3710985\n"
          ],
          "name": "stdout"
        }
      ]
    },
    {
      "cell_type": "code",
      "metadata": {
        "id": "-1vGqc_JKUt_",
        "colab_type": "code",
        "colab": {}
      },
      "source": [
        "import adagram"
      ],
      "execution_count": 0,
      "outputs": []
    },
    {
      "cell_type": "code",
      "metadata": {
        "id": "XEyLg1-VV4eT",
        "colab_type": "code",
        "colab": {}
      },
      "source": [
        "vm = adagram.VectorModel.load('all.a010.p10.d300.w5.m100.nonorm.slim.joblib')"
      ],
      "execution_count": 0,
      "outputs": []
    },
    {
      "cell_type": "markdown",
      "metadata": {
        "id": "ntDq2TumYpZv",
        "colab_type": "text"
      },
      "source": [
        "Посмотрим, какие значения для слова \"лук\" выделяет adagram"
      ]
    },
    {
      "cell_type": "code",
      "metadata": {
        "id": "52KqB3HqWPYA",
        "colab_type": "code",
        "outputId": "6d413ddb-88d9-492d-97c2-8a0e49571252",
        "colab": {
          "base_uri": "https://localhost:8080/",
          "height": 105
        }
      },
      "source": [
        "vm.word_sense_probs('лук')"
      ],
      "execution_count": 12,
      "outputs": [
        {
          "output_type": "execute_result",
          "data": {
            "text/plain": [
              "[(0, 0.27467387333364635),\n",
              " (1, 0.17510064513645113),\n",
              " (2, 0.25182447428150506),\n",
              " (3, 0.0852764349918363),\n",
              " (4, 0.2131232975158767)]"
            ]
          },
          "metadata": {
            "tags": []
          },
          "execution_count": 12
        }
      ]
    },
    {
      "cell_type": "code",
      "metadata": {
        "id": "pupsS7lnWp1K",
        "colab_type": "code",
        "outputId": "98dac6e5-43bb-4f58-e0ab-835d5422520d",
        "colab": {
          "base_uri": "https://localhost:8080/",
          "height": 141
        }
      },
      "source": [
        "for i in range(5):\n",
        "  s = []\n",
        "  for j in vm.sense_neighbors('лук', i):\n",
        "    s.append(j[0])\n",
        "  print(f'meaning {i}: {s} ')"
      ],
      "execution_count": 75,
      "outputs": [
        {
          "output_type": "stream",
          "text": [
            "/usr/local/lib/python3.6/dist-packages/adagram/model.py:124: RuntimeWarning: invalid value encountered in true_divide\n",
            "  sim_matrix = np.dot(self.In, s_v) / self.InNorms\n"
          ],
          "name": "stderr"
        },
        {
          "output_type": "stream",
          "text": [
            "meaning 0: ['морковь', 'помидор', 'лук-порей', 'зелень', 'нарезать', 'нашинковывать', 'сельдерей', 'петрушка', 'мелко', 'нарубать'] \n",
            "meaning 1: ['арбалет', 'дротик', 'пращ', 'самострел', 'мушкет', 'аркебуза', 'стрелять', 'дробовик', 'пневматический', 'аркебуз'] \n",
            "meaning 2: ['чеснок', 'морковь', 'картошка', 'гриб', 'лучок', 'рубленый', 'морковка', 'помидор', 'томат', 'перец'] \n",
            "meaning 3: ['лука', 'евангелист', 'иаков', 'лука', 'матфей', 'матфей', 'деяние', 'иоанн', 'апостол', 'ириней'] \n",
            "meaning 4: ['лука', 'арбалет', 'колчан', 'тетива', 'стрела', 'копье', 'самострел', 'копье', 'секира', 'палица'] \n"
          ],
          "name": "stdout"
        }
      ]
    },
    {
      "cell_type": "markdown",
      "metadata": {
        "id": "b2gMSuhjYwTu",
        "colab_type": "text"
      },
      "source": [
        "Похоже, что значения 0 и 2 относятся к первому выделенному по словарю значению, 1 и 4 - ко второму, а 3 относится к сфере религиозной в качестве имени."
      ]
    },
    {
      "cell_type": "code",
      "metadata": {
        "id": "PkU3dx8daiLY",
        "colab_type": "code",
        "outputId": "24e0031b-bf29-4e34-de34-8eea17ce964c",
        "colab": {
          "base_uri": "https://localhost:8080/",
          "height": 70
        }
      },
      "source": [
        "import nltk\n",
        "nltk.download('stopwords')"
      ],
      "execution_count": 14,
      "outputs": [
        {
          "output_type": "stream",
          "text": [
            "[nltk_data] Downloading package stopwords to /root/nltk_data...\n",
            "[nltk_data]   Unzipping corpora/stopwords.zip.\n"
          ],
          "name": "stdout"
        },
        {
          "output_type": "execute_result",
          "data": {
            "text/plain": [
              "True"
            ]
          },
          "metadata": {
            "tags": []
          },
          "execution_count": 14
        }
      ]
    },
    {
      "cell_type": "code",
      "metadata": {
        "id": "CA5kYMJ5aIr8",
        "colab_type": "code",
        "colab": {}
      },
      "source": [
        "from nltk.tokenize import RegexpTokenizer\n",
        "from nltk.corpus import stopwords\n",
        "from pymorphy2 import MorphAnalyzer\n",
        "from pymystem3 import Mystem\n",
        "\n",
        "morph = MorphAnalyzer()\n",
        "token = RegexpTokenizer('\\w+')\n",
        "stops = set(stopwords.words('russian'))\n",
        "\n",
        "def normalize_pm(text):\n",
        "    words = [morph.parse(word)[0].normal_form for word in tokenize(text) if word]\n",
        "    return words\n",
        "\n",
        "def tokenize(text):\n",
        "    return token.tokenize(text)"
      ],
      "execution_count": 0,
      "outputs": []
    },
    {
      "cell_type": "code",
      "metadata": {
        "id": "LDgjokJrW-PU",
        "colab_type": "code",
        "outputId": "e1dc3e0e-265f-40b9-874d-58c5849d4e13",
        "colab": {
          "base_uri": "https://localhost:8080/",
          "height": 34
        }
      },
      "source": [
        "mystem = Mystem()\n",
        "\n",
        "def disambiguate(model, word, context):\n",
        "    word, _ = lemmatized_context(word)\n",
        "    probs = model.disambiguate(word, lemmatized_context(context))\n",
        "    return 1 + probs.argmax()\n",
        "\n",
        "\n",
        "def lemmatized_context(s):\n",
        "    return [w.lower() for w in mystem.lemmatize(\" \".join(tokenize(s)))]"
      ],
      "execution_count": 16,
      "outputs": [
        {
          "output_type": "stream",
          "text": [
            "Installing mystem to /root/.local/bin/mystem from http://download.cdn.yandex.net/mystem/mystem-3.0-linux3.1-64bit.tar.gz\n"
          ],
          "name": "stderr"
        }
      ]
    },
    {
      "cell_type": "code",
      "metadata": {
        "id": "IIKBP6WYg8LC",
        "colab_type": "code",
        "outputId": "d3c9a29f-5884-47b3-c8b9-afb7a3c7f9fb",
        "colab": {
          "base_uri": "https://localhost:8080/",
          "height": 233
        }
      },
      "source": [
        "corpus['predicted_label'] = [disambiguate(vm, 'лук', context) for context in corpus['text']]\n",
        "corpus.head()"
      ],
      "execution_count": 17,
      "outputs": [
        {
          "output_type": "stream",
          "text": [
            "/usr/local/lib/python3.6/dist-packages/adagram/model.py:171: RuntimeWarning: divide by zero encountered in log\n",
            "  z = np.log(z)\n"
          ],
          "name": "stderr"
        },
        {
          "output_type": "execute_result",
          "data": {
            "text/html": [
              "<div>\n",
              "<style scoped>\n",
              "    .dataframe tbody tr th:only-of-type {\n",
              "        vertical-align: middle;\n",
              "    }\n",
              "\n",
              "    .dataframe tbody tr th {\n",
              "        vertical-align: top;\n",
              "    }\n",
              "\n",
              "    .dataframe thead th {\n",
              "        text-align: right;\n",
              "    }\n",
              "</style>\n",
              "<table border=\"1\" class=\"dataframe\">\n",
              "  <thead>\n",
              "    <tr style=\"text-align: right;\">\n",
              "      <th></th>\n",
              "      <th>text</th>\n",
              "      <th>label</th>\n",
              "      <th>predicted_label</th>\n",
              "    </tr>\n",
              "  </thead>\n",
              "  <tbody>\n",
              "    <tr>\n",
              "      <th>0</th>\n",
              "      <td>Кальмары отварить с морковью, репчатым луком и...</td>\n",
              "      <td>1</td>\n",
              "      <td>1</td>\n",
              "    </tr>\n",
              "    <tr>\n",
              "      <th>1</th>\n",
              "      <td>Кое-кто завёл себе на пирсе маленькие огородик...</td>\n",
              "      <td>1</td>\n",
              "      <td>3</td>\n",
              "    </tr>\n",
              "    <tr>\n",
              "      <th>2</th>\n",
              "      <td>Туда отправляем мелко нарезанными репчатый лук...</td>\n",
              "      <td>1</td>\n",
              "      <td>1</td>\n",
              "    </tr>\n",
              "    <tr>\n",
              "      <th>3</th>\n",
              "      <td>Слегка поджарьте на сковородке нарезанный репч...</td>\n",
              "      <td>1</td>\n",
              "      <td>1</td>\n",
              "    </tr>\n",
              "    <tr>\n",
              "      <th>4</th>\n",
              "      <td>Из другой поездки привез нам мешок репчатого л...</td>\n",
              "      <td>1</td>\n",
              "      <td>3</td>\n",
              "    </tr>\n",
              "  </tbody>\n",
              "</table>\n",
              "</div>"
            ],
            "text/plain": [
              "                                                text  label  predicted_label\n",
              "0  Кальмары отварить с морковью, репчатым луком и...      1                1\n",
              "1  Кое-кто завёл себе на пирсе маленькие огородик...      1                3\n",
              "2  Туда отправляем мелко нарезанными репчатый лук...      1                1\n",
              "3  Слегка поджарьте на сковородке нарезанный репч...      1                1\n",
              "4  Из другой поездки привез нам мешок репчатого л...      1                3"
            ]
          },
          "metadata": {
            "tags": []
          },
          "execution_count": 17
        }
      ]
    },
    {
      "cell_type": "markdown",
      "metadata": {
        "id": "_4QF6D9miw1Y",
        "colab_type": "text"
      },
      "source": [
        "**3.Автоматически определим значения для словарных толкований**"
      ]
    },
    {
      "cell_type": "markdown",
      "metadata": {
        "id": "GAqlP-t7jDTg",
        "colab_type": "text"
      },
      "source": [
        "Для первого толковаания я оба подпункта объединю в один контекст, так как я их не разделяла при ручной разметке тестового корпуса."
      ]
    },
    {
      "cell_type": "code",
      "metadata": {
        "id": "zZgu6GjIiwVv",
        "colab_type": "code",
        "colab": {}
      },
      "source": [
        "meaning_1 = 'Огородное растение семейства лилейных, овощ. Съедобные трубчатые листья или луковицы этого растения. Зеленый лук. Репчатый лук.'"
      ],
      "execution_count": 0,
      "outputs": []
    },
    {
      "cell_type": "code",
      "metadata": {
        "id": "GJdBtVn2iFNl",
        "colab_type": "code",
        "colab": {}
      },
      "source": [
        "meaning_2 = 'Ручное оружие для метания стрел в виде дуги, стянутой тетивой. Стрелять из лука.'"
      ],
      "execution_count": 0,
      "outputs": []
    },
    {
      "cell_type": "code",
      "metadata": {
        "id": "hZq18tD-Tjmk",
        "colab_type": "code",
        "colab": {}
      },
      "source": [
        "vocab_meanings = []\n",
        "vocab_meanings.append(meaning_1)\n",
        "vocab_meanings.append(meaning_2)"
      ],
      "execution_count": 0,
      "outputs": []
    },
    {
      "cell_type": "code",
      "metadata": {
        "id": "Ud33izswivD-",
        "colab_type": "code",
        "outputId": "2369029e-059c-468a-c839-0e70401c8ef8",
        "colab": {
          "base_uri": "https://localhost:8080/",
          "height": 70
        }
      },
      "source": [
        "sense_1 = disambiguate(vm, 'лук', meaning_1)\n",
        "sense_1"
      ],
      "execution_count": 20,
      "outputs": [
        {
          "output_type": "stream",
          "text": [
            "/usr/local/lib/python3.6/dist-packages/adagram/model.py:171: RuntimeWarning: divide by zero encountered in log\n",
            "  z = np.log(z)\n"
          ],
          "name": "stderr"
        },
        {
          "output_type": "execute_result",
          "data": {
            "text/plain": [
              "1"
            ]
          },
          "metadata": {
            "tags": []
          },
          "execution_count": 20
        }
      ]
    },
    {
      "cell_type": "code",
      "metadata": {
        "id": "BP2cLQCYjhyO",
        "colab_type": "code",
        "outputId": "55cee97a-0e52-4a4f-db52-ce6795c5f85b",
        "colab": {
          "base_uri": "https://localhost:8080/",
          "height": 70
        }
      },
      "source": [
        "sense_2 = disambiguate(vm, 'лук', meaning_2)\n",
        "sense_2"
      ],
      "execution_count": 21,
      "outputs": [
        {
          "output_type": "stream",
          "text": [
            "/usr/local/lib/python3.6/dist-packages/adagram/model.py:171: RuntimeWarning: divide by zero encountered in log\n",
            "  z = np.log(z)\n"
          ],
          "name": "stderr"
        },
        {
          "output_type": "execute_result",
          "data": {
            "text/plain": [
              "2"
            ]
          },
          "metadata": {
            "tags": []
          },
          "execution_count": 21
        }
      ]
    },
    {
      "cell_type": "markdown",
      "metadata": {
        "id": "-AyczuIHq6Il",
        "colab_type": "text"
      },
      "source": [
        "**4.Cоотнесение толкования со значениями с помощью Wiki_ru_wordnet**"
      ]
    },
    {
      "cell_type": "code",
      "metadata": {
        "id": "9OcV32KZjog0",
        "colab_type": "code",
        "outputId": "9789a62d-872b-4553-e961-eef71a7b5e0f",
        "colab": {
          "base_uri": "https://localhost:8080/",
          "height": 194
        }
      },
      "source": [
        "!pip install wiki_ru_wordnet"
      ],
      "execution_count": 22,
      "outputs": [
        {
          "output_type": "stream",
          "text": [
            "Collecting wiki_ru_wordnet\n",
            "\u001b[?25l  Downloading https://files.pythonhosted.org/packages/4a/94/0bd5cb96f0b92bc98908194721a1d49f122e3c670fc2705aae19535dee39/wiki_ru_wordnet-1.0.3.tar.gz (20.6MB)\n",
            "\u001b[K     |████████████████████████████████| 20.6MB 1.3MB/s \n",
            "\u001b[?25hBuilding wheels for collected packages: wiki-ru-wordnet\n",
            "  Building wheel for wiki-ru-wordnet (setup.py) ... \u001b[?25l\u001b[?25hdone\n",
            "  Created wheel for wiki-ru-wordnet: filename=wiki_ru_wordnet-1.0.3-cp36-none-any.whl size=20890443 sha256=0851f0dfd500a2c5236f1f9b8354bdd64e9dbea5231198e87778ac2f76fc1cfa\n",
            "  Stored in directory: /root/.cache/pip/wheels/48/6a/c8/22758a66c35b21c1491861e8ab4809b1fd466d1d2445e99fda\n",
            "Successfully built wiki-ru-wordnet\n",
            "Installing collected packages: wiki-ru-wordnet\n",
            "Successfully installed wiki-ru-wordnet-1.0.3\n"
          ],
          "name": "stdout"
        }
      ]
    },
    {
      "cell_type": "code",
      "metadata": {
        "id": "8nNotlgerGFm",
        "colab_type": "code",
        "colab": {}
      },
      "source": [
        "from wiki_ru_wordnet import WikiWordnet\n",
        "\n",
        "ruwn = WikiWordnet()"
      ],
      "execution_count": 0,
      "outputs": []
    },
    {
      "cell_type": "code",
      "metadata": {
        "id": "fkbbASbVrK6I",
        "colab_type": "code",
        "outputId": "0955f190-cc2a-4728-b576-33204426ef4d",
        "colab": {
          "base_uri": "https://localhost:8080/",
          "height": 123
        }
      },
      "source": [
        "for i, j in enumerate(ruwn.get_synsets('лук')):\n",
        "  words = []\n",
        "  for w in j.get_words():\n",
        "    words.append(w.lemma())\n",
        "  print(i, ', '.join(words))"
      ],
      "execution_count": 40,
      "outputs": [
        {
          "output_type": "stream",
          "text": [
            "0 лук\n",
            "1 лук, луковица\n",
            "2 лук\n",
            "3 лук\n",
            "4 лук\n",
            "5 лук\n"
          ],
          "name": "stdout"
        }
      ]
    },
    {
      "cell_type": "code",
      "metadata": {
        "id": "0UMTBW8yH0iG",
        "colab_type": "code",
        "colab": {}
      },
      "source": [
        "synsets = ruwn.get_synsets('лук')"
      ],
      "execution_count": 0,
      "outputs": []
    },
    {
      "cell_type": "code",
      "metadata": {
        "id": "X713cgyZ0zxz",
        "colab_type": "code",
        "colab": {
          "base_uri": "https://localhost:8080/",
          "height": 285
        },
        "outputId": "e9530569-3cc1-44b8-92b3-504968bea169"
      },
      "source": [
        "ww_def = []\n",
        "for i in range(len(synsets)):\n",
        "  dop = []\n",
        "  for w in synsets[i].get_words():\n",
        "    dop.append(w.definition())\n",
        "    print(f'{i} ', w.definition(), '\\n')\n",
        "  s = ' '.join(dop)\n",
        "  ww_def.append(s)"
      ],
      "execution_count": 45,
      "outputs": [
        {
          "output_type": "stream",
          "text": [
            "0  лук~ru~лук~ru~{{ботан.|ru}} род луковичных [[растений]] (''Allium'') семейства [[Луковые]] (Alliaceae) {{пример|Там какое-то болото было, а {{выдел|лук}} рос на кочках.|Валентин Распутин|Последний срок|1970|источник=НКРЯ}}~65218~74957 \n",
            "\n",
            "1  лук~ru~лук~ru~{{=|репчатый лук|[[луковица|луковицы]] лука [1] как пищевой продукт}} {{пример|Кроме того, он был сварен с большим количеством {{выдел|лука}}, а Валя не любила варёный {{выдел|лук}}.|Татьяна Тронина|Русалка для интимных встреч|2004|источник=НКРЯ}}~94921~68014 \n",
            "\n",
            "1  луковица~ru~луковица~ru~головка лука {{пример|Разыскав связку лука, Детрей очистил две {{выдел|луковицы}}, искрошил, перемешал на большой сковороде с солью|Грин|Джесси и Моргиана|1928|источник=НКРЯ}}~45439~47202 \n",
            "\n",
            "2  лук~ru~лук~ru~{{=|зелёный лук|перья лука [1] как пищевой продукт}} {{пример|Она тыкала перья {{выдел|лука}} в соль, откусывала хлеб, подносила кружку дрожащей рукой ко рту, в серое пятнышко соли пулями ударялись слёзы и насквозь, до скоблёного дерева, пробивали его, развеивая по столу серую соляную пыль.|Виктор Астафьев|Весёлый солдат|издание=Новый Мир|1998|источник=НКРЯ}}~3840~28787 \n",
            "\n",
            "3  лук~ru~лук~ru~{{=|гусиный лук|({{lang|la|Gagea}}) — род травянистых луковичных растений семейства [[Лилейные]]}} {{пример|}}~82671~16717 \n",
            "\n",
            "4  лук~ru~лук~ru~{{=|морской лук|({{lang|la|Urgínea marítima}}) многолетнее травянистое луковичное растение; вид рода [[ургинея]] (Urginea) семейства [[Гиацинтовые]].}} {{пример|}}~60110~38986 \n",
            "\n",
            "5  лук~ru~лук~ru~[[разновидность]] [[метательный|метательного]] [[оружие|оружия]], [[предназначенный|предназначенная]] для [[стрельба|стрельбы]] [[стрела]]ми {{пример|Человек освоил {{выдел|лук}} и стрелы задолго до изучения законов механики и сделал вполне приличный металлический топор без изучения микроскопических свойств металла. |Геннадий Горелик|Андрей Сахаров. Наука и свобода|2004|источник=НКРЯ}}~25293~28532 \n",
            "\n"
          ],
          "name": "stdout"
        }
      ]
    },
    {
      "cell_type": "code",
      "metadata": {
        "id": "D3kHZTKWQtNa",
        "colab_type": "code",
        "colab": {
          "base_uri": "https://localhost:8080/",
          "height": 143
        },
        "outputId": "29458264-ada0-4c6d-8925-bdbc1acdaf8d"
      },
      "source": [
        "for i in ww_def:\n",
        "  print(i)"
      ],
      "execution_count": 46,
      "outputs": [
        {
          "output_type": "stream",
          "text": [
            "лук~ru~лук~ru~{{ботан.|ru}} род луковичных [[растений]] (''Allium'') семейства [[Луковые]] (Alliaceae) {{пример|Там какое-то болото было, а {{выдел|лук}} рос на кочках.|Валентин Распутин|Последний срок|1970|источник=НКРЯ}}~65218~74957\n",
            "лук~ru~лук~ru~{{=|репчатый лук|[[луковица|луковицы]] лука [1] как пищевой продукт}} {{пример|Кроме того, он был сварен с большим количеством {{выдел|лука}}, а Валя не любила варёный {{выдел|лук}}.|Татьяна Тронина|Русалка для интимных встреч|2004|источник=НКРЯ}}~94921~68014 луковица~ru~луковица~ru~головка лука {{пример|Разыскав связку лука, Детрей очистил две {{выдел|луковицы}}, искрошил, перемешал на большой сковороде с солью|Грин|Джесси и Моргиана|1928|источник=НКРЯ}}~45439~47202\n",
            "лук~ru~лук~ru~{{=|зелёный лук|перья лука [1] как пищевой продукт}} {{пример|Она тыкала перья {{выдел|лука}} в соль, откусывала хлеб, подносила кружку дрожащей рукой ко рту, в серое пятнышко соли пулями ударялись слёзы и насквозь, до скоблёного дерева, пробивали его, развеивая по столу серую соляную пыль.|Виктор Астафьев|Весёлый солдат|издание=Новый Мир|1998|источник=НКРЯ}}~3840~28787\n",
            "лук~ru~лук~ru~{{=|гусиный лук|({{lang|la|Gagea}}) — род травянистых луковичных растений семейства [[Лилейные]]}} {{пример|}}~82671~16717\n",
            "лук~ru~лук~ru~{{=|морской лук|({{lang|la|Urgínea marítima}}) многолетнее травянистое луковичное растение; вид рода [[ургинея]] (Urginea) семейства [[Гиацинтовые]].}} {{пример|}}~60110~38986\n",
            "лук~ru~лук~ru~[[разновидность]] [[метательный|метательного]] [[оружие|оружия]], [[предназначенный|предназначенная]] для [[стрельба|стрельбы]] [[стрела]]ми {{пример|Человек освоил {{выдел|лук}} и стрелы задолго до изучения законов механики и сделал вполне приличный металлический топор без изучения микроскопических свойств металла. |Геннадий Горелик|Андрей Сахаров. Наука и свобода|2004|источник=НКРЯ}}~25293~28532\n"
          ],
          "name": "stdout"
        }
      ]
    },
    {
      "cell_type": "markdown",
      "metadata": {
        "id": "nOz-AHu0KTlb",
        "colab_type": "text"
      },
      "source": [
        "Посмотрим также на гиперонимы"
      ]
    },
    {
      "cell_type": "code",
      "metadata": {
        "id": "zi0NJgNyISYf",
        "colab_type": "code",
        "colab": {
          "base_uri": "https://localhost:8080/",
          "height": 141
        },
        "outputId": "ec71ad75-efe4-4894-d5fc-45199b83d986"
      },
      "source": [
        "for idx in range(len(synsets)):\n",
        "    for hypernym in ruwn.get_hypernyms(synsets[idx]):\n",
        "        print(idx, {w.lemma() for w in hypernym.get_words()})"
      ],
      "execution_count": 38,
      "outputs": [
        {
          "output_type": "stream",
          "text": [
            "0 {'овощ'}\n",
            "1 {'овощ'}\n",
            "3 {'растение'}\n",
            "3 {'лилейные'}\n",
            "4 {'растение'}\n",
            "5 {'метательное оружие'}\n",
            "5 {'холодное оружие'}\n"
          ],
          "name": "stdout"
        }
      ]
    },
    {
      "cell_type": "markdown",
      "metadata": {
        "id": "LaHmlCqQLo8E",
        "colab_type": "text"
      },
      "source": [
        "Как я уже отмечала, значения adagram 0 и 2 относятся к первому выделенному по словарю значению, 1 и 4 - ко второму, а 3 относится к сфере религиозной в качестве имени и не соответсвует ни одному из выделенных по словарю значений. Если посмотреть на толкования и гиперонимы Wiki_ru_wordnet, то видно, что это третье значение adagram-а он тоже не выделил, зато выделил значение ЛУК2 и несколько значений, подходящих для толкования ЛУК1."
      ]
    },
    {
      "cell_type": "markdown",
      "metadata": {
        "id": "Ni_SQSWnS-a0",
        "colab_type": "text"
      },
      "source": [
        "Посмотрим, какие значение adagram определит для толкований Wordnet"
      ]
    },
    {
      "cell_type": "code",
      "metadata": {
        "id": "y6lFr3DVSKzz",
        "colab_type": "code",
        "colab": {
          "base_uri": "https://localhost:8080/",
          "height": 158
        },
        "outputId": "d357561d-8f7a-470f-b6f8-e8131bbd1ebe"
      },
      "source": [
        "ww_ada_senses = []\n",
        "for i in ww_def:\n",
        "  sense = disambiguate(vm, 'лук', i)\n",
        "  print(sense)"
      ],
      "execution_count": 49,
      "outputs": [
        {
          "output_type": "stream",
          "text": [
            "4\n",
            "3\n",
            "3\n",
            "3\n",
            "2\n",
            "2\n"
          ],
          "name": "stdout"
        },
        {
          "output_type": "stream",
          "text": [
            "/usr/local/lib/python3.6/dist-packages/adagram/model.py:171: RuntimeWarning: divide by zero encountered in log\n",
            "  z = np.log(z)\n"
          ],
          "name": "stderr"
        }
      ]
    },
    {
      "cell_type": "code",
      "metadata": {
        "id": "ZA8SKMcCSl6b",
        "colab_type": "code",
        "colab": {
          "base_uri": "https://localhost:8080/",
          "height": 52
        },
        "outputId": "4fdb3b55-8b02-4ac0-f2c7-7c7eff4fd124"
      },
      "source": [
        "voc_mean_sets = []\n",
        "for i in vocab_meanings:\n",
        "  s = set(normalize_pm(i))\n",
        "  voc_mean_sets.append(s)\n",
        "  print(s)"
      ],
      "execution_count": 52,
      "outputs": [
        {
          "output_type": "stream",
          "text": [
            "{'огородный', 'зелёный', 'лука', 'репчатый', 'трубчатый', 'семейство', 'это', 'или', 'луковица', 'лист', 'лилейный', 'овощ', 'съедобный', 'растение'}\n",
            "{'оружие', 'метание', 'стянуть', 'тетива', 'для', 'лука', 'дуга', 'в', 'стрела', 'из', 'стрелять', 'вид', 'ручной'}\n"
          ],
          "name": "stdout"
        }
      ]
    },
    {
      "cell_type": "code",
      "metadata": {
        "id": "SL7ThztxTyRN",
        "colab_type": "code",
        "colab": {
          "base_uri": "https://localhost:8080/",
          "height": 143
        },
        "outputId": "43452682-b33e-4014-d096-31f74bb29bc3"
      },
      "source": [
        "ww_def_sets = []\n",
        "for i in ww_def:\n",
        "  s = set(normalize_pm(i))\n",
        "  ww_def_sets.append(s)\n",
        "  print(s)"
      ],
      "execution_count": 53,
      "outputs": [
        {
          "output_type": "stream",
          "text": [
            "{'alliaceae', 'последний', 'лука', 'allium', 'там', 'семейство', 'нкрить', 'луковый', 'ru', '1970', 'на', 'то', 'ботан', '65218', 'срок', 'кочка', 'какой', 'род', 'распутин', 'расти', 'растение', 'болото', 'выдел', 'источник', 'пример', 'быть', '74957', 'луковичный', 'валентин', 'а'}\n",
            "{'68014', 'лука', 'с', 'джесси', 'два', '1', 'луковица', 'очистить', 'детрей', '1928', 'тронина', 'нкрить', 'ru', 'валя', 'разыскать', 'русалка', 'пищевой', 'сварить', 'искрошить', 'тот', 'на', 'моргиана', 'перемешать', 'грин', 'количество', 'головка', 'для', 'и', 'больший', 'продукт', 'сковорода', 'татьяна', '2004', '45439', '47202', 'он', 'варёный', 'выдел', 'связка', 'интимный', 'не', 'встреча', 'пример', 'источник', '94921', 'репчатый', 'быть', 'любить', 'кроме', 'соль', 'большой', 'а', 'как'}\n",
            "{'пятнышко', 'лука', '1998', '3840', 'ударяться', 'в', 'по', 'пуля', '1', 'астафьев', 'нкрить', 'тыкать', 'ru', 'перо', 'она', 'к', 'стол', 'пищевой', 'рука', 'скоблёный', 'мир', 'пыль', 'издание', 'новый', 'и', 'насквозь', 'рот', 'серый', 'дрожать', 'пробивать', 'дерево', 'продукт', 'подносить', 'солдат', 'откусывать', 'соляный', 'развеивать', 'зелёный', 'он', 'выдел', 'кружка', 'источник', 'виктор', 'пример', 'слеза', 'до', 'хлеб', 'соль', 'как', '28787', 'весёлый'}\n",
            "{'lang', '82671', 'ru', 'la', 'пример', 'лука', 'gagea', '16717', 'травянистый', 'луковичный', 'семейство', 'гусиный', 'род', 'лилейный', 'растение'}\n",
            "{'lang', 'гиацинтовый', 'la', 'ru', 'ургинея', 'морской', 'пример', 'лука', 'urginea', 'травянистый', 'луковичный', 'семейство', 'многолетний', '38986', 'род', 'urgínea', 'растение', 'вид', 'marítima', '60110'}\n",
            "{'сделать', 'металлический', 'топор', 'лука', 'без', 'ми', 'освоить', 'приличный', 'изучение', 'нкрить', 'свобода', 'ru', 'металл', '25293', 'свойство', 'метательный', 'геннадий', 'сахар', 'для', 'и', 'механика', 'микроскопический', 'горелик', 'стрельба', 'стрела', 'андрей', 'человек', '2004', 'задолго', 'оружие', 'выдел', 'вполне', 'источник', 'пример', '28532', 'предназначить', 'до', 'закон', 'наука', 'разновидность'}\n"
          ],
          "name": "stdout"
        }
      ]
    },
    {
      "cell_type": "code",
      "metadata": {
        "id": "eFxst_XQUjSp",
        "colab_type": "code",
        "colab": {
          "base_uri": "https://localhost:8080/",
          "height": 141
        },
        "outputId": "df01d308-75cd-497b-d59d-8d31c87e9f45"
      },
      "source": [
        "ada_sets = []\n",
        "for i in range(5):\n",
        "  s = []\n",
        "  for j in vm.sense_neighbors('лук', i):\n",
        "    s.append(j[0])\n",
        "  ada_sets.append(set(s))\n",
        "  print(set(s))"
      ],
      "execution_count": 59,
      "outputs": [
        {
          "output_type": "stream",
          "text": [
            "/usr/local/lib/python3.6/dist-packages/adagram/model.py:124: RuntimeWarning: invalid value encountered in true_divide\n",
            "  sim_matrix = np.dot(self.In, s_v) / self.InNorms\n"
          ],
          "name": "stderr"
        },
        {
          "output_type": "stream",
          "text": [
            "{'нарубать', 'петрушка', 'сельдерей', 'зелень', 'нарезать', 'помидор', 'мелко', 'лук-порей', 'нашинковывать', 'морковь'}\n",
            "{'дротик', 'самострел', 'аркебуза', 'пневматический', 'пращ', 'мушкет', 'стрелять', 'дробовик', 'арбалет', 'аркебуз'}\n",
            "{'лучок', 'чеснок', 'морковка', 'перец', 'рубленый', 'картошка', 'гриб', 'помидор', 'томат', 'морковь'}\n",
            "{'евангелист', 'матфей', 'деяние', 'лука', 'иоанн', 'апостол', 'иаков', 'ириней'}\n",
            "{'тетива', 'самострел', 'лука', 'палица', 'секира', 'стрела', 'копье', 'колчан', 'арбалет'}\n"
          ],
          "name": "stdout"
        }
      ]
    },
    {
      "cell_type": "code",
      "metadata": {
        "id": "K9pAQTmHU7pR",
        "colab_type": "code",
        "colab": {
          "base_uri": "https://localhost:8080/",
          "height": 443
        },
        "outputId": "cf0214e5-d5c1-4891-b993-aad83cdee7c6"
      },
      "source": [
        "inters = []\n",
        "for i in range(len(ada_sets)):\n",
        "  for j in range(len(voc_mean_sets)):\n",
        "    for q in range(len(ww_def_sets)):\n",
        "      inter = ada_sets[i] & voc_mean_sets[j] & ww_def_sets[q]\n",
        "      if inter:\n",
        "        print(i,j,q,inter)"
      ],
      "execution_count": 65,
      "outputs": [
        {
          "output_type": "stream",
          "text": [
            "3 0 0 {'лука'}\n",
            "3 0 1 {'лука'}\n",
            "3 0 2 {'лука'}\n",
            "3 0 3 {'лука'}\n",
            "3 0 4 {'лука'}\n",
            "3 0 5 {'лука'}\n",
            "3 1 0 {'лука'}\n",
            "3 1 1 {'лука'}\n",
            "3 1 2 {'лука'}\n",
            "3 1 3 {'лука'}\n",
            "3 1 4 {'лука'}\n",
            "3 1 5 {'лука'}\n",
            "4 0 0 {'лука'}\n",
            "4 0 1 {'лука'}\n",
            "4 0 2 {'лука'}\n",
            "4 0 3 {'лука'}\n",
            "4 0 4 {'лука'}\n",
            "4 0 5 {'лука'}\n",
            "4 1 0 {'лука'}\n",
            "4 1 1 {'лука'}\n",
            "4 1 2 {'лука'}\n",
            "4 1 3 {'лука'}\n",
            "4 1 4 {'лука'}\n",
            "4 1 5 {'лука', 'стрела'}\n"
          ],
          "name": "stdout"
        }
      ]
    },
    {
      "cell_type": "markdown",
      "metadata": {
        "id": "v8kok96SX62N",
        "colab_type": "text"
      },
      "source": [
        "Результаты пересечения толкований не показали хороших результатов. Хотя для значения ЛУК2 индексы значений получились корректными. Для проверки предсказаний adagram я попробую использовать то соотношение значений, которое было выделено ранее."
      ]
    },
    {
      "cell_type": "code",
      "metadata": {
        "id": "bVdSajUoWrcx",
        "colab_type": "code",
        "colab": {}
      },
      "source": [
        "tested_y0 = []\n",
        "for item in corpus:\n",
        "    tmp = {idx: len(set(normalize_pm(item)) &voc_mean_sets[idx]) for idx in range(3)}\n",
        "    tmp = sorted(tmp.items(), key = lambda x: x[1], reverse=True)\n",
        "    tested_y0.append(tmp[0][0] + 1)\n",
        "print(tested_y0)\n",
        "print(test_y)\n",
        "print(metrics.f1_score(test_y, tested_y0, average='macro'))"
      ],
      "execution_count": 0,
      "outputs": []
    },
    {
      "cell_type": "code",
      "metadata": {
        "id": "G4sfeziSY8Lm",
        "colab_type": "code",
        "colab": {}
      },
      "source": [
        "true_labels = []\n",
        "for i in corpus['label']:\n",
        "  true_labels.append(i)"
      ],
      "execution_count": 0,
      "outputs": []
    },
    {
      "cell_type": "code",
      "metadata": {
        "id": "KMcGov95ZFyx",
        "colab_type": "code",
        "colab": {}
      },
      "source": [
        "k = 0\n",
        "ada_labels = [] #сделаем поправку на соотношение значений, которое было отмечено ранее.\n",
        "for i in corpus['predicted_label']:\n",
        "  k += 1\n",
        "  if i == 1 or i == 3:\n",
        "    ada_labels.append(1)\n",
        "  elif i == 2 or i == 5:\n",
        "    ada_labels.append(2)\n",
        "  else:\n",
        "    ada_labels.append(i)"
      ],
      "execution_count": 0,
      "outputs": []
    },
    {
      "cell_type": "code",
      "metadata": {
        "id": "KQbxmVadaHk0",
        "colab_type": "code",
        "colab": {
          "base_uri": "https://localhost:8080/",
          "height": 70
        },
        "outputId": "b6e3d64f-0da4-4da4-9fa5-4091f034a8ae"
      },
      "source": [
        "np.array(true_labels)"
      ],
      "execution_count": 88,
      "outputs": [
        {
          "output_type": "execute_result",
          "data": {
            "text/plain": [
              "array([1, 1, 1, 1, 1, 1, 1, 1, 1, 1, 1, 1, 1, 1, 1, 1, 1, 1, 1, 1, 1, 1,\n",
              "       1, 1, 1, 1, 1, 1, 1, 1, 2, 2, 2, 2, 2, 2, 2, 2, 2, 2, 2, 2, 2, 2,\n",
              "       2, 2, 2, 2, 2, 2, 2, 2, 2, 2, 2, 2, 2, 2, 2, 2])"
            ]
          },
          "metadata": {
            "tags": []
          },
          "execution_count": 88
        }
      ]
    },
    {
      "cell_type": "code",
      "metadata": {
        "id": "DCvy36l6Z-PP",
        "colab_type": "code",
        "colab": {
          "base_uri": "https://localhost:8080/",
          "height": 70
        },
        "outputId": "b5c3b623-3dbd-40d5-b4f6-77c492bac119"
      },
      "source": [
        "np.array(ada_labels)"
      ],
      "execution_count": 92,
      "outputs": [
        {
          "output_type": "execute_result",
          "data": {
            "text/plain": [
              "array([1, 1, 1, 1, 1, 1, 1, 1, 1, 1, 1, 1, 1, 1, 1, 1, 1, 1, 1, 1, 1, 1,\n",
              "       1, 1, 1, 1, 1, 1, 1, 1, 2, 2, 2, 2, 2, 2, 2, 2, 2, 2, 2, 2, 2, 2,\n",
              "       2, 2, 2, 2, 2, 2, 2, 2, 2, 2, 2, 2, 2, 1, 2, 2])"
            ]
          },
          "metadata": {
            "tags": []
          },
          "execution_count": 92
        }
      ]
    },
    {
      "cell_type": "code",
      "metadata": {
        "id": "HmBDj5ssaB99",
        "colab_type": "code",
        "colab": {
          "base_uri": "https://localhost:8080/",
          "height": 34
        },
        "outputId": "a48fa047-fd9b-441c-9e73-6022d88fc1c6"
      },
      "source": [
        "from sklearn import metrics\n",
        "print(metrics.f1_score(true_labels, ada_labels, average='macro'))"
      ],
      "execution_count": 95,
      "outputs": [
        {
          "output_type": "stream",
          "text": [
            "0.983328702417338\n"
          ],
          "name": "stdout"
        }
      ]
    },
    {
      "cell_type": "markdown",
      "metadata": {
        "id": "liy5EvF9bzXh",
        "colab_type": "text"
      },
      "source": [
        "Результат получился очень хороший, если соотнести значения adagram со словарными толкованиями так, как было отмечено."
      ]
    },
    {
      "cell_type": "code",
      "metadata": {
        "id": "yBCjlwP3bqqa",
        "colab_type": "code",
        "colab": {}
      },
      "source": [
        ""
      ],
      "execution_count": 0,
      "outputs": []
    }
  ]
}