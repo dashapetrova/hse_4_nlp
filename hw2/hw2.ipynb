{
 "cells": [
  {
   "cell_type": "markdown",
   "metadata": {},
   "source": [
    "**Домашнее задание 2. Извлечение коллокаций.**\n",
    "\n",
    "Описание задания:\n",
    "Скачайте корпус текстов, обработайте его с помощью UDPipe, извлеките все группы \"глагол + прямое дополнение, выраженное существительным\" (не учитывайте глаголы, которые встречаются в корпусе менее 50 раз).\n",
    "\n",
    "Оцените полученные словосочетания следующими метриками: log-likelihood, dice, PMI (можно использовать nltk.collocations).\n",
    "\n",
    "Подготовьте \"золотой стандарт\" коллокаций (далее ЗС) для этого корпуса: возьмите словосочетания, которые попадают в топ-100 по всем метрикам, пересеките со словарем глагольной сочетаемости.\n",
    "\n",
    "Добавьте в ЗС словосочетания из топ-100 , которые не вошли в словарь, но являются коллокациями (если такие есть), объясните свой выбор.\n",
    "\n",
    "Оцените ранговую корреляцию (коэффициент Спирмена) результатов по каждой метрике с ЗС. Как это работает, читайте, например, тут. Можно использовать scipy.stats.spearmanr. Опишите ошибки каждой метрики."
   ]
  },
  {
   "cell_type": "markdown",
   "metadata": {},
   "source": [
    "1.Обработка корпуса"
   ]
  },
  {
   "cell_type": "code",
   "execution_count": 1,
   "metadata": {},
   "outputs": [
    {
     "name": "stderr",
     "output_type": "stream",
     "text": [
      "Loading UDPipe model: done.\n"
     ]
    }
   ],
   "source": [
    "!C:/Users/Дарья/nlp/udpipe-1.2.0-bin/bin-win64/udpipe --input horizontal --output conllu \\\n",
    "--tokenize --tag --parse \\\n",
    "C:/Users/Дарья/nlp/russian-syntagrus-ud-2.4-190531.udpipe \\\n",
    "< testset2.txt > testset2.conllu"
   ]
  },
  {
   "cell_type": "code",
   "execution_count": 2,
   "metadata": {},
   "outputs": [],
   "source": [
    "from nltk.parse import DependencyGraph\n",
    "trees = []\n",
    "\n",
    "with open('testset2.conllu', encoding = 'utf-8') as f:\n",
    "    parsed_sents = f.read().split('\\n\\n')\n",
    "\n",
    "    for sent in parsed_sents:\n",
    "        tree = [line for line in sent.split('\\n') if line and line[0] != '#']\n",
    "        trees.append('\\n'.join(tree))"
   ]
  },
  {
   "cell_type": "markdown",
   "metadata": {},
   "source": [
    "2.Создадим список частотных глаголов"
   ]
  },
  {
   "cell_type": "code",
   "execution_count": 31,
   "metadata": {},
   "outputs": [],
   "source": [
    "verbs = []\n",
    "lemmas = []\n",
    "for t in trees:\n",
    "    try:\n",
    "        g = DependencyGraph(t, top_relation_label='root')\n",
    "    except:\n",
    "        continue\n",
    "    for n in g.nodes:\n",
    "        if g.nodes[n]['ctag'] == 'VERB':\n",
    "            verbs.append(g.nodes[n]['lemma'])\n",
    "        if g.nodes[n]['ctag'] != 'PUNCT':\n",
    "            if g.nodes[n]['lemma'] != None:\n",
    "                lemmas.append(g.nodes[n]['lemma'])"
   ]
  },
  {
   "cell_type": "code",
   "execution_count": 35,
   "metadata": {},
   "outputs": [
    {
     "data": {
      "text/plain": [
       "['предложить', 'объединить', 'заявить', 'прийтись', 'забыть']"
      ]
     },
     "execution_count": 35,
     "metadata": {},
     "output_type": "execute_result"
    }
   ],
   "source": [
    "verbs[:5]"
   ]
  },
  {
   "cell_type": "code",
   "execution_count": 36,
   "metadata": {},
   "outputs": [
    {
     "data": {
      "text/plain": [
       "['предложить', 'я', 'бы', 'единый', 'Россия']"
      ]
     },
     "execution_count": 36,
     "metadata": {},
     "output_type": "execute_result"
    }
   ],
   "source": [
    "lemmas[:5]"
   ]
  },
  {
   "cell_type": "code",
   "execution_count": 6,
   "metadata": {},
   "outputs": [],
   "source": [
    "from collections import Counter\n",
    "\n",
    "freq_verbs = {}\n",
    "\n",
    "v_count = Counter(verbs)\n",
    "\n",
    "for i in v_count.elements():\n",
    "    if v_count[i] >= 50:\n",
    "        if i in freq_verbs.keys():\n",
    "            freq_verbs[i] += 1\n",
    "        else:\n",
    "            freq_verbs[i] = 1"
   ]
  },
  {
   "cell_type": "code",
   "execution_count": 10,
   "metadata": {},
   "outputs": [
    {
     "data": {
      "text/plain": [
       "{'заявить': 258,\n",
       " 'подать': 274,\n",
       " 'просить': 143,\n",
       " 'признать': 343,\n",
       " 'стать': 213,\n",
       " 'сообщить': 216,\n",
       " 'обратиться': 139,\n",
       " 'отказаться': 117,\n",
       " 'рассматривать': 99,\n",
       " 'рассказать': 54,\n",
       " 'рассмотреть': 90,\n",
       " 'мочь': 349,\n",
       " 'начаться': 74,\n",
       " 'обвинить': 461,\n",
       " 'решить': 86,\n",
       " 'пытаться': 89,\n",
       " 'использовать': 56,\n",
       " 'напомнить': 97,\n",
       " 'получить': 125,\n",
       " 'передать': 68,\n",
       " 'направить': 105,\n",
       " 'удаться': 61,\n",
       " 'сказать': 98,\n",
       " 'иметь': 94,\n",
       " 'делать': 77,\n",
       " 'обжаловать': 102,\n",
       " 'отказать': 59,\n",
       " 'говорить': 139,\n",
       " 'счесть': 55,\n",
       " 'быть': 136,\n",
       " 'оставить': 61,\n",
       " 'дать': 70,\n",
       " 'удовлетворить': 173,\n",
       " 'вынести': 152,\n",
       " 'требовать': 172,\n",
       " 'являться': 113,\n",
       " 'обвинять': 119,\n",
       " 'принять': 151,\n",
       " 'выплатить': 59,\n",
       " 'назначить': 63,\n",
       " 'постановить': 54,\n",
       " 'обязать': 58,\n",
       " 'принадлежать': 54,\n",
       " 'подтвердить': 91,\n",
       " 'находиться': 117,\n",
       " 'арестовывать': 82,\n",
       " 'доказать': 56,\n",
       " 'пояснить': 58,\n",
       " 'предъявить': 97,\n",
       " 'согласиться': 62,\n",
       " 'взыскать': 62,\n",
       " 'отклонить': 69,\n",
       " 'провести': 63,\n",
       " 'приговорить': 122,\n",
       " 'запретить': 55,\n",
       " 'считать': 152,\n",
       " 'оспаривать': 54,\n",
       " 'нет': 68,\n",
       " 'утверждать': 71,\n",
       " 'пройти': 50,\n",
       " 'связать': 56,\n",
       " 'оспорить': 68,\n",
       " 'объявить': 72,\n",
       " 'оказаться': 62,\n",
       " 'отменить': 83}"
      ]
     },
     "execution_count": 10,
     "metadata": {},
     "output_type": "execute_result"
    }
   ],
   "source": [
    "freq_verbs"
   ]
  },
  {
   "cell_type": "markdown",
   "metadata": {},
   "source": [
    "3.Вытащим пары verb + noun.obj"
   ]
  },
  {
   "cell_type": "code",
   "execution_count": 19,
   "metadata": {},
   "outputs": [],
   "source": [
    "vn_phrases = []\n",
    "for t in trees:\n",
    "    try:\n",
    "        g = DependencyGraph(t, top_relation_label='root')\n",
    "        for t in g.triples():\n",
    "            if t[0][1] == 'VERB' and t[1] == 'obj' and t[2][1] == 'NOUN':\n",
    "                if t[0][0] in freq_verbs:\n",
    "                    phrase = [t[0][0], t[2][0]]\n",
    "                    vn_phrases.append(phrase)\n",
    "    except:\n",
    "        continue"
   ]
  },
  {
   "cell_type": "code",
   "execution_count": 20,
   "metadata": {},
   "outputs": [
    {
     "data": {
      "text/plain": [
       "[['признать', 'договор'],\n",
       " ['вынести', 'приговор'],\n",
       " ['признать', 'ответственность'],\n",
       " ['выплатить', 'компенсации'],\n",
       " ['обжаловать', 'санкцию'],\n",
       " ['удовлетворить', 'жалобу'],\n",
       " ['взыскать', 'деньги'],\n",
       " ['обжаловать', 'санкцию'],\n",
       " ['оспаривать', 'решение'],\n",
       " ['оспаривать', 'решение']]"
      ]
     },
     "execution_count": 20,
     "metadata": {},
     "output_type": "execute_result"
    }
   ],
   "source": [
    "vn_phrases[:10]"
   ]
  },
  {
   "cell_type": "markdown",
   "metadata": {},
   "source": [
    "4.Оценим полученные словосочетания метриками"
   ]
  },
  {
   "cell_type": "markdown",
   "metadata": {},
   "source": [
    "a) likelihood"
   ]
  },
  {
   "cell_type": "code",
   "execution_count": 42,
   "metadata": {},
   "outputs": [],
   "source": [
    "import nltk\n",
    "from nltk import collocations\n",
    "from nltk.collocations import *"
   ]
  },
  {
   "cell_type": "code",
   "execution_count": 97,
   "metadata": {},
   "outputs": [],
   "source": [
    "bigram_measures = nltk.collocations.BigramAssocMeasures()\n",
    "finder = BigramCollocationFinder.from_documents(vn_phrases)"
   ]
  },
  {
   "cell_type": "code",
   "execution_count": 98,
   "metadata": {},
   "outputs": [],
   "source": [
    "likeli_scores_best = finder.nbest(collocations.BigramAssocMeasures().likelihood_ratio, 100)"
   ]
  },
  {
   "cell_type": "code",
   "execution_count": 99,
   "metadata": {},
   "outputs": [
    {
     "data": {
      "text/plain": [
       "[('обжаловать', 'решение'),\n",
       " ('передать', 'дело'),\n",
       " ('запретить', 'деятельность'),\n",
       " ('назначить', 'наказание'),\n",
       " ('рассмотреть', 'вопрос')]"
      ]
     },
     "execution_count": 99,
     "metadata": {},
     "output_type": "execute_result"
    }
   ],
   "source": [
    "likeli_scores_best[:5]"
   ]
  },
  {
   "cell_type": "markdown",
   "metadata": {},
   "source": [
    "b) Dice"
   ]
  },
  {
   "cell_type": "code",
   "execution_count": 100,
   "metadata": {},
   "outputs": [],
   "source": [
    "dice_scores_best = finder.nbest(collocations.BigramAssocMeasures().dice, 100)"
   ]
  },
  {
   "cell_type": "code",
   "execution_count": 101,
   "metadata": {},
   "outputs": [
    {
     "data": {
      "text/plain": [
       "[('делать', 'вид'),\n",
       " ('объявить', 'перерыв'),\n",
       " ('отказать', 'жалобы'),\n",
       " ('сообщить', 'сведения'),\n",
       " ('стать', 'обыски')]"
      ]
     },
     "execution_count": 101,
     "metadata": {},
     "output_type": "execute_result"
    }
   ],
   "source": [
    "dice_scores_best[:5]"
   ]
  },
  {
   "cell_type": "markdown",
   "metadata": {},
   "source": [
    "c) PMI"
   ]
  },
  {
   "cell_type": "code",
   "execution_count": 102,
   "metadata": {},
   "outputs": [
    {
     "data": {
      "text/plain": [
       "[('делать', 'вид'),\n",
       " ('отказать', 'жалобы'),\n",
       " ('сообщить', 'сведения'),\n",
       " ('стать', 'обыски'),\n",
       " ('арестовывать', 'счета')]"
      ]
     },
     "execution_count": 102,
     "metadata": {},
     "output_type": "execute_result"
    }
   ],
   "source": [
    "pmi_scores_best = finder2.nbest(collocations.BigramAssocMeasures().pmi, 100)\n",
    "pmi_scores_best[:5]"
   ]
  },
  {
   "cell_type": "markdown",
   "metadata": {},
   "source": [
    "5.Подготовим золотой стандарт"
   ]
  },
  {
   "cell_type": "code",
   "execution_count": 110,
   "metadata": {},
   "outputs": [
    {
     "data": {
      "text/plain": [
       "[('назначить', 'наказание'),\n",
       " ('пройти', 'прения'),\n",
       " ('направить', 'документы'),\n",
       " ('доказать', 'незаконность'),\n",
       " ('объявить', 'перерыв')]"
      ]
     },
     "execution_count": 110,
     "metadata": {},
     "output_type": "execute_result"
    }
   ],
   "source": [
    "intersection = list(set(likeli_scores_best) & set(dice_scores_best) & set(pmi_scores_best))\n",
    "intersection[:5]"
   ]
  },
  {
   "cell_type": "code",
   "execution_count": 256,
   "metadata": {},
   "outputs": [
    {
     "data": {
      "text/plain": [
       "52"
      ]
     },
     "execution_count": 256,
     "metadata": {},
     "output_type": "execute_result"
    }
   ],
   "source": [
    "len(intersection)"
   ]
  },
  {
   "cell_type": "code",
   "execution_count": 124,
   "metadata": {},
   "outputs": [],
   "source": [
    "with open(\"verb_coll.txt\", \"r\", encoding='utf-8') as d:\n",
    "    text = d.read()"
   ]
  },
  {
   "cell_type": "code",
   "execution_count": 200,
   "metadata": {},
   "outputs": [],
   "source": [
    "colls = []\n",
    "lines = text.split('\\n')\n",
    "for i in lines:\n",
    "    tri = i.split('\\t')\n",
    "    if tri != ['']:\n",
    "        colls.append(tri[2])"
   ]
  },
  {
   "cell_type": "code",
   "execution_count": 203,
   "metadata": {},
   "outputs": [
    {
     "data": {
      "text/plain": [
       "['аборт делать',\n",
       " 'делать аборт',\n",
       " 'сделать аборт',\n",
       " 'авария произошла',\n",
       " 'авария случилась']"
      ]
     },
     "execution_count": 203,
     "metadata": {},
     "output_type": "execute_result"
    }
   ],
   "source": [
    "colls[:5]"
   ]
  },
  {
   "cell_type": "code",
   "execution_count": 202,
   "metadata": {},
   "outputs": [
    {
     "data": {
      "text/plain": [
       "9729"
      ]
     },
     "execution_count": 202,
     "metadata": {},
     "output_type": "execute_result"
    }
   ],
   "source": [
    "len(colls)"
   ]
  },
  {
   "cell_type": "code",
   "execution_count": 245,
   "metadata": {},
   "outputs": [],
   "source": [
    "new_colls = []\n",
    "for i in colls:\n",
    "    words = i.split()\n",
    "    pos = []\n",
    "    for w in words:\n",
    "        p = morph.parse(w)[0]\n",
    "        tags = str(p.tag).split(',')\n",
    "        pos.append(tags[0])\n",
    "    if pos[-1] == 'NOUN':\n",
    "        pair = []\n",
    "        for j in i.split():\n",
    "            pp = morph.parse(j)[0]\n",
    "            token = pp.normal_form\n",
    "            pair.append(token)\n",
    "        s = tuple(pair)\n",
    "        new_colls.append(s)"
   ]
  },
  {
   "cell_type": "code",
   "execution_count": 246,
   "metadata": {},
   "outputs": [
    {
     "data": {
      "text/plain": [
       "[('делать', 'аборт'),\n",
       " ('сделать', 'аборт'),\n",
       " ('потерпеть', 'авария'),\n",
       " ('произойти', 'авария'),\n",
       " ('случиться', 'авария')]"
      ]
     },
     "execution_count": 246,
     "metadata": {},
     "output_type": "execute_result"
    }
   ],
   "source": [
    "new_colls[:5]"
   ]
  },
  {
   "cell_type": "code",
   "execution_count": 247,
   "metadata": {},
   "outputs": [
    {
     "data": {
      "text/plain": [
       "7688"
      ]
     },
     "execution_count": 247,
     "metadata": {},
     "output_type": "execute_result"
    }
   ],
   "source": [
    "len(new_colls)"
   ]
  },
  {
   "cell_type": "code",
   "execution_count": 254,
   "metadata": {},
   "outputs": [],
   "source": [
    "gold_stand = set(new_colls) & set(intersection)"
   ]
  },
  {
   "cell_type": "code",
   "execution_count": 255,
   "metadata": {},
   "outputs": [
    {
     "data": {
      "text/plain": [
       "{('делать', 'вид'),\n",
       " ('объявить', 'перерыв'),\n",
       " ('передать', 'дело'),\n",
       " ('предъявить', 'обвинение'),\n",
       " ('пройти', 'курс')}"
      ]
     },
     "execution_count": 255,
     "metadata": {},
     "output_type": "execute_result"
    }
   ],
   "source": [
    "gold_stand"
   ]
  },
  {
   "cell_type": "markdown",
   "metadata": {},
   "source": [
    "6.Добавим коллокации"
   ]
  },
  {
   "cell_type": "code",
   "execution_count": 262,
   "metadata": {},
   "outputs": [],
   "source": [
    "import random"
   ]
  },
  {
   "cell_type": "code",
   "execution_count": 263,
   "metadata": {},
   "outputs": [],
   "source": [
    "dop_set = random.sample(set(intersection).difference(gold_stand), 10)"
   ]
  },
  {
   "cell_type": "code",
   "execution_count": 264,
   "metadata": {},
   "outputs": [
    {
     "data": {
      "text/plain": [
       "[('пройти', 'этап'),\n",
       " ('решить', 'директора'),\n",
       " ('иметь', 'резонанс'),\n",
       " ('считать', 'репутацию'),\n",
       " ('оспаривать', 'предписания'),\n",
       " ('взыскать', 'задолженность'),\n",
       " ('запретить', 'ЗАО'),\n",
       " ('иметь', 'повод'),\n",
       " ('оставить', 'заявление'),\n",
       " ('доказать', 'незаконность')]"
      ]
     },
     "execution_count": 264,
     "metadata": {},
     "output_type": "execute_result"
    }
   ],
   "source": [
    "dop_set"
   ]
  },
  {
   "cell_type": "code",
   "execution_count": 266,
   "metadata": {},
   "outputs": [],
   "source": [
    "new_gs = gold_stand | set(dop_set)"
   ]
  },
  {
   "cell_type": "code",
   "execution_count": 267,
   "metadata": {},
   "outputs": [
    {
     "data": {
      "text/plain": [
       "{('взыскать', 'задолженность'),\n",
       " ('делать', 'вид'),\n",
       " ('доказать', 'незаконность'),\n",
       " ('запретить', 'ЗАО'),\n",
       " ('иметь', 'повод'),\n",
       " ('иметь', 'резонанс'),\n",
       " ('объявить', 'перерыв'),\n",
       " ('оспаривать', 'предписания'),\n",
       " ('оставить', 'заявление'),\n",
       " ('передать', 'дело'),\n",
       " ('предъявить', 'обвинение'),\n",
       " ('пройти', 'курс'),\n",
       " ('пройти', 'этап'),\n",
       " ('решить', 'директора'),\n",
       " ('считать', 'репутацию')}"
      ]
     },
     "execution_count": 267,
     "metadata": {},
     "output_type": "execute_result"
    }
   ],
   "source": [
    "new_gs"
   ]
  },
  {
   "cell_type": "code",
   "execution_count": null,
   "metadata": {},
   "outputs": [],
   "source": []
  }
 ],
 "metadata": {
  "kernelspec": {
   "display_name": "Python 3",
   "language": "python",
   "name": "python3"
  },
  "language_info": {
   "codemirror_mode": {
    "name": "ipython",
    "version": 3
   },
   "file_extension": ".py",
   "mimetype": "text/x-python",
   "name": "python",
   "nbconvert_exporter": "python",
   "pygments_lexer": "ipython3",
   "version": "3.7.3"
  }
 },
 "nbformat": 4,
 "nbformat_minor": 2
}
